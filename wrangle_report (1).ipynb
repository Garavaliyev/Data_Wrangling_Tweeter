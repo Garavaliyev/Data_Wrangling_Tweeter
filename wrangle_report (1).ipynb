{
 "cells": [
  {
   "cell_type": "markdown",
   "metadata": {},
   "source": [
    "## Wrangle Report\n",
    "\n",
    "#### Introduction\n",
    "\n",
    "My goal: wrangle WeRateDogs Twitter data to create interesting and trustworthy analyses and visualizations. The Twitter archive is great, but it only contains very basic tweet information. Additional gathering, then assessing and cleaning is required for \"Wow!\"-worthy analyses and visualizations. First of all, this project shows my data wrangling project from Udacity. The datas of project were collected from different databases. All datas were given by Udacity. I got some troubleness for last data which is TwitterAPIs, however Udacity give me this data for analysis\n",
    "\n",
    "#### Data Gathering\n",
    "\n",
    "I gather data from Udacity and I read all datas in Python.\n",
    "\n",
    "#### Quality issues¶\n",
    "\n",
    "arch_enhance table\n",
    "\n",
    "1.There are 6 columns which have many missing values.\n",
    "\n",
    "2.Incorrect dogs name with \"a\", \"an\", \"such\",\"the\", \"very\"...\n",
    "\n",
    "3.tweet_ id, the timestap,rating_numerato and rating_denominator are not correct datatype.\n",
    "\n",
    "4.In the column rating_numerato and rating_deminator it is needed to correct some decimals.\n",
    "\n",
    "Predictions table\n",
    "\n",
    "5.The dataypes of some column are not correct.\n",
    "\n",
    "6.the datatype of twitter_id should be converted.\n",
    "\n",
    "7.It is needed to remove '_' ''and make title of data upper in columns p1, p2, p3.\n",
    "\n",
    "tweets_json table\n",
    "\n",
    "8.the datatype of favorites and retweets should be converted\n",
    "\n",
    "#### Tidiness issues\n",
    "\n",
    "1.doggo, floofer, pupper, puppo in df1_clean should be in one column.\n",
    "\n",
    "2.There are three different dataframe which need join or merge with each other.\n",
    "\n",
    "\n",
    "#### Data Assessing\n",
    "\n",
    "I assess data in two ways: which are visual assessment and programmatic assesment. In big datas visual assessment may not be very useful, because people can not see everything in the Data. However, the programmatic assessment can very helpful to see the missing values, NaN values, duplicated values and etc. In the Assessing data we see that what are qualities and tidiness of data.\n",
    "\n",
    "\n",
    "#### Data Cleaning\n",
    "\n",
    "The data was very big, for this reason I made many efforts to clean current datas. At first I defined the problems of data in which columns there are the missing values or incorrect values. After that I use the codes which help me in process of data cleaning. At last section I test the data that did I make correct or not, how is the data right now etc.\n",
    "\n",
    "\n",
    "#### Data Findings\n",
    "\n",
    "After Data wrangling process which includes data gathering, assessing and cleaning data. I explain and analyse data with insights and visualization I found that most popular name is Charlie, however most name of dogs is unknown. And in second and third places the names Tucker and Cooper stay.\n",
    "\n",
    "After that, Rating numerator mean is about 12. On the other I found that most Favorites and retweet dogs are Labrador retriever and Lakeland terrier.\n",
    "\n",
    "At last I found that the golden retriever is most popular dog Breed in the data. In following places the Labrador, Pembroke and Chihuahua are the other popular Breeds. At last I can say that the interest of dogs show the data in limited area, in the future we can analyse and make visualization in most big data which can cover the world rate. But Finally we can say that our data shows Breeds of Retriever are most attractive and popular.\n"
   ]
  },
  {
   "cell_type": "code",
   "execution_count": null,
   "metadata": {},
   "outputs": [],
   "source": []
  }
 ],
 "metadata": {
  "kernelspec": {
   "display_name": "Python 3",
   "language": "python",
   "name": "python3"
  },
  "language_info": {
   "codemirror_mode": {
    "name": "ipython",
    "version": 3
   },
   "file_extension": ".py",
   "mimetype": "text/x-python",
   "name": "python",
   "nbconvert_exporter": "python",
   "pygments_lexer": "ipython3",
   "version": "3.6.3"
  }
 },
 "nbformat": 4,
 "nbformat_minor": 2
}
